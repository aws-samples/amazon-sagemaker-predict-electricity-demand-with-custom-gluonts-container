{
 "cells": [
  {
   "cell_type": "markdown",
   "metadata": {},
   "source": [
    "---\n",
    "\n",
    "# Contents\n",
    "\n",
    "7. [How to Build the Custom Sagemaker Container for Model Deployment](#7.-How-to-Build-the-Custom-Sagemaker-Container-for-Model-Deployment)\n",
    "8. [How to Deploy Models as Sagemaker Multi Model Endpoint and Invoke the Endpoint](#8.-How-to-Deploy-Models-as-Sagemaker-Multi-Model-Endpoint-and-Invoke-the-Endpoint)\n",
    "9. [How to Do Batch Transform in the Multi Model Server Framework](#9.-How-to-Do-Batch-Transform-in-the-Multi-Model-Server-Framework)\n",
    "10. [Clean up the resources](#10.-Clean-up-the-resources)\n",
    "11. [Conclusion](#11.-Conclusion)\n",
    "\n",
    "---"
   ]
  },
  {
   "cell_type": "markdown",
   "metadata": {},
   "source": [
    "# 7. How to Build the Custom Sagemaker Container for Model Deployment"
   ]
  },
  {
   "cell_type": "markdown",
   "metadata": {},
   "source": [
    "Inspired by [an example of bringing your own container for deployment to a multi-model endpoint.](https://github.com/awslabs/amazon-sagemaker-examples/tree/master/advanced_functionality/multi_model_bring_your_own), here we use the [Multi Model Server](https://github.com/awslabs/multi-model-server) framework and the [SageMaker Inference Toolkit](https://github.com/aws/sagemaker-inference-toolkit) for hosting the multiple forecasting models at the same time using one endpoint:\n",
    "\n",
    "- Multi Model Server (MMS) is an open source framework for serving machine learning models. MMS supports a pluggable custom backend handler where you can implement your own algorithm. It provides the HTTP frontend and model management capabilities required by multi-model endpoints to host multiple models within a single container, load models into and unload models out of the container dynamically, and performing inference on a specified loaded model. MMS supports [various settings](https://github.com/awslabs/multi-model-server/blob/master/docker/advanced_settings.md#description-of-config-file-settings) for the frontend server it starts.\n",
    "- SageMaker Inference Toolkit\n",
    "[SageMaker Inference Toolkit](https://github.com/aws/sagemaker-inference-toolkit) is a library that bootstraps MMS in a way that is compatible with SageMaker multi-model endpoints, while still allowing you to tweak important performance parameters, such as the number of workers per model.\n",
    "\n",
    "In this way, we can compare all the model forecasts in real-time more efficiently, and can save the cost of creating multiple endpoints.\n",
    "\n",
    "The main steps for building the custom Sagemaker container are described as below."
   ]
  },
  {
   "cell_type": "markdown",
   "metadata": {},
   "source": [
    "## Step 1: Import libraries\n",
    "Before beggining, first import all the python modules needed. "
   ]
  },
  {
   "cell_type": "code",
   "execution_count": 1,
   "metadata": {},
   "outputs": [],
   "source": [
    "import boto3\n",
    "import jsonlines\n",
    "import json\n",
    "import time\n",
    "\n",
    "from sagemaker import get_execution_role\n",
    "from time import gmtime, strftime"
   ]
  },
  {
   "cell_type": "markdown",
   "metadata": {},
   "source": [
    "## Step 2: Define model handler\n",
    "The code snippet __`container/model_handler.py`__ below shows how we define a custom handler that supports loading and inference for the GluonTs models.\n",
    "- The `initialize` method will be called when a model is loaded into memory. In this example, it loads the model artifacts at `model_dir` into the GluonTS Predictor class.\n",
    "\n",
    "- The `handle` method will be called when invoking the model. In this example, it validates the input payload and then forwards the input to the GluonTS Predictor class, returning the output. This handler class is instantiated for every model loaded into the container, so state in the handler is not shared across models."
   ]
  },
  {
   "cell_type": "code",
   "execution_count": 2,
   "metadata": {},
   "outputs": [
    {
     "name": "stdout",
     "output_type": "stream",
     "text": [
      "\"\"\"\n",
      "ModelHandler defines an example model handler for load and inference requests for MXNet CPU models\n",
      "\"\"\"\n",
      "from collections import namedtuple\n",
      "import glob\n",
      "import json\n",
      "import logging\n",
      "import io\n",
      "import os\n",
      "import re\n",
      "\n",
      "import mxnet as mx\n",
      "import numpy as np\n",
      "import sys\n",
      "\n",
      "from pathlib import Path\n",
      "from gluonts.model.predictor import Predictor\n",
      "from gluonts.dataset.common import ListDataset\n",
      "\n",
      "class ModelHandler(object):\n",
      "    \"\"\"\n",
      "    A sample Model handler implementation.\n",
      "    \"\"\"\n",
      "\n",
      "    def __init__(self):\n",
      "        self.initialized = False\n",
      "        self.mx_model = None\n",
      "        self.shapes = None\n",
      "    \n",
      "    def load_model(self, model_path):\n",
      "        try:\n",
      "            predictor = Predictor.deserialize(Path(model_path))\n",
      "            print('Model loaded from %s'%model_path)\n",
      "        except:\n",
      "            print('Unable to load the model %s'%model_path)\n",
      "            sys.exit(1)\n",
      "        return predictor\n",
      "\n",
      "    def initialize(self, context):\n",
      "        \"\"\"\n",
      "        Initialize model. This will be called during model loading time\n",
      "        :param context: Initial context contains model server system properties.\n",
      "        :return:\n",
      "        \"\"\"\n",
      "        self.initialized = True\n",
      "        properties = context.system_properties\n",
      "        # Contains the url parameter passed to the load request\n",
      "        model_dir = properties.get(\"model_dir\") \n",
      "        gpu_id = properties.get(\"gpu_id\")\n",
      "\n",
      "        # Load Gluonts Model\n",
      "        self.mx_model = self.load_model(model_dir)\n",
      "\n",
      "    def preprocess(self, request):\n",
      "        \"\"\"\n",
      "        Transform raw input into model input data.\n",
      "        :param request: list of raw requests\n",
      "        :return: list of preprocessed model input data\n",
      "        \"\"\"\n",
      "        # Take the input data and pre-process it make it inference ready\n",
      "\n",
      "        json_list = []\n",
      "        # for each request\n",
      "        for idx, data in enumerate(request):\n",
      "            # Read the bytearray of the jsonline from the input\n",
      "            jsonline_arr = data.get('body')  \n",
      "            # Input json is in bytearray, convert it to string\n",
      "            jsonline_str = jsonline_arr.decode(\"utf-8\")\n",
      "            # split the json lines\n",
      "            json_list_request = []\n",
      "            # for each time series\n",
      "            for line in io.StringIO(jsonline_str):\n",
      "                json_record = json.loads(line)\n",
      "                json_list_request.append(json_record)\n",
      "            json_list.append(json_list_request)\n",
      "        return json_list\n",
      "\n",
      "    def inference(self, model_input):\n",
      "        \"\"\"\n",
      "        Internal inference methods\n",
      "        :param model_input: transformed model input data list\n",
      "        :return: list of inference output in NDArray\n",
      "        \"\"\"\n",
      "        forecast_list = []\n",
      "        for model_input_request in model_input:\n",
      "            forecast = list(self.mx_model.predict(ListDataset(\n",
      "                      model_input_request,\n",
      "                      freq = self.mx_model.freq\n",
      "            )))\n",
      "            forecast_list.append(forecast)\n",
      "        return forecast_list\n",
      "\n",
      "    def postprocess(self, inference_output):\n",
      "        \"\"\"\n",
      "        Return predict result in as list.\n",
      "        :param inference_output: list of inference output\n",
      "        :return: list of predict results\n",
      "        \"\"\"\n",
      "        ret = []\n",
      "        quantiles = [0.1, 0.2, 0.3, 0.4, 0.5, 0.6, 0.7, 0.8, 0.9]\n",
      "        # for each request\n",
      "        for inference_output_request in inference_output:\n",
      "            ret_request = []\n",
      "            # for each time series\n",
      "            for i in inference_output_request:\n",
      "                l = {}\n",
      "                l[\"item_id\"] = i.item_id\n",
      "                l[\"quantiles\"] = {}\n",
      "                for q in quantiles:\n",
      "                    l[\"quantiles\"][str(q)] = i.quantile(q).tolist()\n",
      "                l[\"mean\"] = i.mean.tolist()\n",
      "                ret_request.append(json.dumps(l))\n",
      "            ret.append('\\n'.join(ret_request) + '\\n')\n",
      "        return ret\n",
      "        \n",
      "    def handle(self, data, context):\n",
      "        \"\"\"\n",
      "        Call preprocess, inference and post-process functions\n",
      "        :param data: input data\n",
      "        :param context: mms context\n",
      "        \"\"\"\n",
      "        \n",
      "        model_input = self.preprocess(data)\n",
      "        model_out = self.inference(model_input)\n",
      "        return self.postprocess(model_out)\n",
      "\n",
      "_service = ModelHandler()\n",
      "\n",
      "\n",
      "def handle(data, context):\n",
      "    if not _service.initialized:\n",
      "        _service.initialize(context)\n",
      "\n",
      "    if data is None:\n",
      "        return None\n",
      "\n",
      "    return _service.handle(data, context)\n"
     ]
    }
   ],
   "source": [
    "!cat container/model_handler.py"
   ]
  },
  {
   "cell_type": "markdown",
   "metadata": {},
   "source": [
    "### Step 3: Unit testing for the model handler\n",
    "Before we build the custom docker container, it is good habit to do some unit testing (__`container/test_model_handler.py`__) as below."
   ]
  },
  {
   "cell_type": "code",
   "execution_count": 3,
   "metadata": {},
   "outputs": [
    {
     "name": "stdout",
     "output_type": "stream",
     "text": [
      "============================= test session starts ==============================\n",
      "platform linux -- Python 3.6.10, pytest-5.4.3, py-1.9.0, pluggy-0.13.1 -- /home/ec2-user/SageMaker/timeseries_blog_fork_yin/2_Predict_electricity_demand_with_the_GluonTS_and_SageMaker_custom_containers/.myenv/miniconda/envs/gluonts-multimodel/bin/python\n",
      "cachedir: .pytest_cache\n",
      "rootdir: /home/ec2-user/SageMaker/timeseries_blog_fork_yin/2_Predict_electricity_demand_with_the_GluonTS_and_SageMaker_custom_containers/container\n",
      "collecting ... collected 5 items\n",
      "\n",
      "test_model_handler.py::test_load_model PASSED                            [ 20%]\n",
      "test_model_handler.py::test_initialize PASSED                            [ 40%]\n",
      "test_model_handler.py::test_preprocess PASSED                            [ 60%]\n",
      "test_model_handler.py::test_handle[5-quantiles0] PASSED                  [ 80%]\n",
      "test_model_handler.py::test_handle[25-quantiles1] PASSED                 [100%]\n",
      "\n",
      "============================== 5 passed in 2.49s ===============================\n"
     ]
    }
   ],
   "source": [
    "%%bash\n",
    "\n",
    "cd container\n",
    "pytest -v test_model_handler.py"
   ]
  },
  {
   "cell_type": "markdown",
   "metadata": {},
   "source": [
    "## Step 4: Define Docker Entrypoint\n",
    "The inference container in this example uses the Inference Toolkit to start MMS which can be seen in the __`container/dockerd-entrypoint.py`__ file as below."
   ]
  },
  {
   "cell_type": "code",
   "execution_count": 4,
   "metadata": {},
   "outputs": [
    {
     "name": "stdout",
     "output_type": "stream",
     "text": [
      "import subprocess\n",
      "import sys\n",
      "import shlex\n",
      "import os\n",
      "from retrying import retry\n",
      "from subprocess import CalledProcessError\n",
      "from sagemaker_inference import model_server\n",
      "\n",
      "def _retry_if_error(exception):\n",
      "    return isinstance(exception, CalledProcessError or OSError)\n",
      "\n",
      "@retry(stop_max_delay=1000 * 50,\n",
      "       retry_on_exception=_retry_if_error)\n",
      "def _start_mms():\n",
      "    # by default the number of workers per model is 1, but we can configure it through the\n",
      "    # environment variable below if desired.\n",
      "    # os.environ['SAGEMAKER_MODEL_SERVER_WORKERS'] = '2'\n",
      "    model_server.start_model_server(handler_service='/home/model-server/model_handler.py:handle')\n",
      "\n",
      "def main():\n",
      "    if sys.argv[1] == 'serve':\n",
      "        _start_mms()\n",
      "    else:\n",
      "        subprocess.check_call(shlex.split(' '.join(sys.argv[1:])))\n",
      "\n",
      "    # prevent docker exit\n",
      "    subprocess.call(['tail', '-f', '/dev/null'])\n",
      "    \n",
      "main()\n"
     ]
    }
   ],
   "source": [
    "!cat container/dockerd-entrypoint.py"
   ]
  },
  {
   "cell_type": "markdown",
   "metadata": {},
   "source": [
    "## Step 5: Building and registering a container\n",
    "\n",
    "The shell script below will first build a custome Docker image which uses MMS as the front end (configured through SageMaker Inference Toolkit in `container/dockerd-entrypoint.py`), and `container/model_handler.py` shown above as the backend handler. It will then upload the image to an ECR repository in your account. `This step may take a bit long when running for the first time.`"
   ]
  },
  {
   "cell_type": "code",
   "execution_count": 5,
   "metadata": {},
   "outputs": [
    {
     "name": "stdout",
     "output_type": "stream",
     "text": [
      "Login Succeeded\n",
      "sha256:d3bb3ca1cfc27a37f663d3f723c60d9977427eeb273a65beda1dcb6f8e94503e\n",
      "The push refers to repository [783128296767.dkr.ecr.ap-southeast-2.amazonaws.com/demo-sagemaker-multimodel-gluonts]\n",
      "757c1ae22515: Preparing\n",
      "413a6f04b09c: Preparing\n",
      "37d91a3c4cee: Preparing\n",
      "12db22adf339: Preparing\n",
      "6d7e581173db: Preparing\n",
      "97d7225ac80a: Preparing\n",
      "db7a601aadeb: Preparing\n",
      "9012222a80e1: Preparing\n",
      "e40ff1b74835: Preparing\n",
      "f383861831ea: Preparing\n",
      "96cb223ef3e4: Preparing\n",
      "ebb3daf902ad: Preparing\n",
      "dcc0cc99372e: Preparing\n",
      "87c128261339: Preparing\n",
      "41a253a417e6: Preparing\n",
      "e06660e80cf4: Preparing\n",
      "97d7225ac80a: Waiting\n",
      "db7a601aadeb: Waiting\n",
      "9012222a80e1: Waiting\n",
      "dcc0cc99372e: Waiting\n",
      "e40ff1b74835: Waiting\n",
      "f383861831ea: Waiting\n",
      "96cb223ef3e4: Waiting\n",
      "87c128261339: Waiting\n",
      "ebb3daf902ad: Waiting\n",
      "41a253a417e6: Waiting\n",
      "757c1ae22515: Layer already exists\n",
      "12db22adf339: Layer already exists\n",
      "6d7e581173db: Layer already exists\n",
      "413a6f04b09c: Layer already exists\n",
      "37d91a3c4cee: Layer already exists\n",
      "97d7225ac80a: Layer already exists\n",
      "e40ff1b74835: Layer already exists\n",
      "9012222a80e1: Layer already exists\n",
      "f383861831ea: Layer already exists\n",
      "96cb223ef3e4: Layer already exists\n",
      "db7a601aadeb: Layer already exists\n",
      "ebb3daf902ad: Layer already exists\n",
      "87c128261339: Layer already exists\n",
      "dcc0cc99372e: Layer already exists\n",
      "e06660e80cf4: Layer already exists\n",
      "41a253a417e6: Layer already exists\n",
      "latest: digest: sha256:25f5460770dd204441b7b04f44cb717e7138c2c29a8ea47b2327da5e9bba46c3 size: 3650\n"
     ]
    },
    {
     "name": "stderr",
     "output_type": "stream",
     "text": [
      "WARNING! Using --password via the CLI is insecure. Use --password-stdin.\n",
      "WARNING! Your password will be stored unencrypted in /home/ec2-user/.docker/config.json.\n",
      "Configure a credential helper to remove this warning. See\n",
      "https://docs.docker.com/engine/reference/commandline/login/#credentials-store\n",
      "\n"
     ]
    }
   ],
   "source": [
    "%%bash\n",
    "\n",
    "# The name of our algorithm\n",
    "algorithm_name=demo-sagemaker-multimodel-gluonts\n",
    "\n",
    "cd container\n",
    "\n",
    "account=$(aws sts get-caller-identity --query Account --output text)\n",
    "\n",
    "# Get the region defined in the current configuration (default to us-west-2 if none defined)\n",
    "region=$(aws configure get region)\n",
    "region=${region:-us-west-2}\n",
    "\n",
    "fullname=\"${account}.dkr.ecr.${region}.amazonaws.com/${algorithm_name}:latest\"\n",
    "\n",
    "# If the repository doesn't exist in ECR, create it.\n",
    "aws ecr describe-repositories --repository-names \"${algorithm_name}\" > /dev/null 2>&1\n",
    "\n",
    "if [ $? -ne 0 ]\n",
    "then\n",
    "    aws ecr create-repository --repository-name \"${algorithm_name}\" > /dev/null\n",
    "fi\n",
    "\n",
    "# Get the login command from ECR and execute it directly\n",
    "$(aws ecr get-login --region ${region} --no-include-email)\n",
    "\n",
    "# Build the docker image locally with the image name and then push it to ECR\n",
    "# with the full name.\n",
    "\n",
    "docker build -q -t ${algorithm_name} .\n",
    "docker tag ${algorithm_name} ${fullname}\n",
    "\n",
    "docker push ${fullname}"
   ]
  },
  {
   "cell_type": "markdown",
   "metadata": {},
   "source": [
    "# 8. How to Deploy Models as Sagemaker Multi Model Endpoint and Invoke the Endpoint\n",
    "\n",
    "After building and registering the custom Sagemaker container, we can start to deploy models as Sagemaker multi-model endpoint and invoke the endpoint. The main steps are outlined as below:"
   ]
  },
  {
   "cell_type": "markdown",
   "metadata": {},
   "source": [
    "## Step 1: Set up the environment"
   ]
  },
  {
   "cell_type": "markdown",
   "metadata": {},
   "source": [
    "First, we need to define the S3 bucket and prefix of the model artifacts that will be invoked by the multi-model endpoint. we also need to define the IAM role that will give SageMaker access to the model artifacts and ECR image that was created above."
   ]
  },
  {
   "cell_type": "code",
   "execution_count": 6,
   "metadata": {},
   "outputs": [],
   "source": [
    "sm_client = boto3.client(service_name='sagemaker')\n",
    "runtime_sm_client = boto3.client(service_name='sagemaker-runtime')\n",
    "\n",
    "account_id = boto3.client('sts').get_caller_identity()['Account']\n",
    "region = boto3.Session().region_name\n",
    "\n",
    "bucket = 'sagemaker-{}-{}'.format(region, account_id)\n",
    "prefix = 'demo-multimodel-gluonts-endpoint'\n",
    "\n",
    "role = get_execution_role()\n",
    "\n",
    "models_dir = \"models\""
   ]
  },
  {
   "cell_type": "markdown",
   "metadata": {},
   "source": [
    "## Step 2: Create a multi-model endpoint\n",
    "### Step 2-1: Import models into hosting\n",
    "When creating the Model entity for multi-model endpoints, the container's `ModelDataUrl` is the S3 prefix where the model artifacts that are invokable by the endpoint are located. The rest of the S3 path will be specified when invoking the model.\n",
    "\n",
    "The `Mode` of container is specified as `MultiModel` to signify that the container will host multiple models."
   ]
  },
  {
   "cell_type": "code",
   "execution_count": 7,
   "metadata": {},
   "outputs": [
    {
     "name": "stdout",
     "output_type": "stream",
     "text": [
      "Model name: DEMO-MultiModelGluonTSModel2020-09-10-01-18-56\n",
      "Model data Url: https://s3-ap-southeast-2.amazonaws.com/sagemaker-ap-southeast-2-783128296767/demo-multimodel-gluonts-endpoint/models/\n",
      "Container image: 783128296767.dkr.ecr.ap-southeast-2.amazonaws.com/demo-sagemaker-multimodel-gluonts:latest\n",
      "Model Arn: arn:aws:sagemaker:ap-southeast-2:783128296767:model/demo-multimodelgluontsmodel2020-09-10-01-18-56\n"
     ]
    }
   ],
   "source": [
    "model_name = 'DEMO-MultiModelGluonTSModel' + strftime(\"%Y-%m-%d-%H-%M-%S\", gmtime())\n",
    "model_url = 'https://s3-{}.amazonaws.com/{}/{}/{}/'.format(region, bucket, prefix, models_dir)\n",
    "container = '{}.dkr.ecr.{}.amazonaws.com/{}:latest'.format(account_id, region, 'demo-sagemaker-multimodel-gluonts')\n",
    "\n",
    "print('Model name: ' + model_name)\n",
    "print('Model data Url: ' + model_url)\n",
    "print('Container image: ' + container)\n",
    "\n",
    "container = {\n",
    "    'Image': container,\n",
    "    'ModelDataUrl': model_url,\n",
    "    'Mode': 'MultiModel'\n",
    "}\n",
    "\n",
    "create_model_response = sm_client.create_model(\n",
    "    ModelName = model_name,\n",
    "    ExecutionRoleArn = role,\n",
    "    Containers = [container])\n",
    "\n",
    "print(\"Model Arn: \" + create_model_response['ModelArn'])"
   ]
  },
  {
   "cell_type": "markdown",
   "metadata": {},
   "source": [
    "### Step 2-2: Create endpoint configuration\n",
    "Endpoint config creation works the same way it does as single model endpoints."
   ]
  },
  {
   "cell_type": "code",
   "execution_count": 8,
   "metadata": {},
   "outputs": [
    {
     "name": "stdout",
     "output_type": "stream",
     "text": [
      "Endpoint config name: DEMO-MultiModelGluonTSEndpointConfig-2020-09-10-01-18-57\n",
      "Endpoint config Arn: arn:aws:sagemaker:ap-southeast-2:783128296767:endpoint-config/demo-multimodelgluontsendpointconfig-2020-09-10-01-18-57\n"
     ]
    }
   ],
   "source": [
    "endpoint_config_name = 'DEMO-MultiModelGluonTSEndpointConfig-' + strftime(\"%Y-%m-%d-%H-%M-%S\", gmtime())\n",
    "print('Endpoint config name: ' + endpoint_config_name)\n",
    "\n",
    "create_endpoint_config_response = sm_client.create_endpoint_config(\n",
    "    EndpointConfigName = endpoint_config_name,\n",
    "    ProductionVariants=[{\n",
    "        'InstanceType': 'ml.m5.xlarge',\n",
    "        'InitialInstanceCount': 2,\n",
    "        'InitialVariantWeight': 1,\n",
    "        'ModelName': model_name,\n",
    "        'VariantName': 'AllTraffic'}])\n",
    "\n",
    "print(\"Endpoint config Arn: \" + create_endpoint_config_response['EndpointConfigArn'])"
   ]
  },
  {
   "cell_type": "markdown",
   "metadata": {},
   "source": [
    "### Step 2-3: Create the multi model endpoint\n",
    "Similarly, endpoint creation works the same way as for single model endpoints."
   ]
  },
  {
   "cell_type": "code",
   "execution_count": 9,
   "metadata": {},
   "outputs": [
    {
     "name": "stdout",
     "output_type": "stream",
     "text": [
      "Endpoint name: DEMO-MultiModelGluonTSEndpoint-2020-09-10-01-18-57\n",
      "Endpoint Arn: arn:aws:sagemaker:ap-southeast-2:783128296767:endpoint/demo-multimodelgluontsendpoint-2020-09-10-01-18-57\n",
      "Endpoint Status: Creating\n",
      "Waiting for DEMO-MultiModelGluonTSEndpoint-2020-09-10-01-18-57 endpoint to be in service...\n"
     ]
    }
   ],
   "source": [
    "endpoint_name = 'DEMO-MultiModelGluonTSEndpoint-' + strftime(\"%Y-%m-%d-%H-%M-%S\", gmtime())\n",
    "print('Endpoint name: ' + endpoint_name)\n",
    "\n",
    "create_endpoint_response = sm_client.create_endpoint(\n",
    "    EndpointName=endpoint_name,\n",
    "    EndpointConfigName=endpoint_config_name)\n",
    "print('Endpoint Arn: ' + create_endpoint_response['EndpointArn'])\n",
    "\n",
    "resp = sm_client.describe_endpoint(EndpointName=endpoint_name)\n",
    "status = resp['EndpointStatus']\n",
    "print(\"Endpoint Status: \" + status)\n",
    "\n",
    "print('Waiting for {} endpoint to be in service...'.format(endpoint_name))\n",
    "waiter = sm_client.get_waiter('endpoint_in_service')\n",
    "waiter.wait(EndpointName=endpoint_name)"
   ]
  },
  {
   "cell_type": "markdown",
   "metadata": {},
   "source": [
    "## Step 4: Invoke models\n",
    "Now we invoke the models that we uploaded to S3 previously. The first invocation of a model may be slow, since behind the scenes, SageMaker is downloading the model artifacts from S3 to the instance and loading it into the container."
   ]
  },
  {
   "cell_type": "markdown",
   "metadata": {},
   "source": [
    "### Invoke the Mean Model"
   ]
  },
  {
   "cell_type": "markdown",
   "metadata": {},
   "source": [
    "First we will prepare two time series as the payload to invoke the model, then call InvokeEndpoint to invoke the Mean model to forecast. The `TargetModel` field is concatenated with the S3 prefix specified in `ModelDataUrl` when creating the model, to generate the location of the model in S3."
   ]
  },
  {
   "cell_type": "code",
   "execution_count": 10,
   "metadata": {},
   "outputs": [],
   "source": [
    "def read_data(file_path):\n",
    "    data = []\n",
    "    with jsonlines.open(file_path) as reader:\n",
    "        for obj in reader:\n",
    "            data.append(obj)\n",
    "    return data\n",
    "\n",
    "payload_jsonline = read_data('data/test.json')"
   ]
  },
  {
   "cell_type": "code",
   "execution_count": 11,
   "metadata": {},
   "outputs": [],
   "source": [
    "n_time_series = 2 # select 2 time series for quick response\n",
    "payload_list = []\n",
    "for p in payload_jsonline[:n_time_series]:\n",
    "    payload_list.append(json.dumps(p))\n",
    "payload = '\\n'.join(payload_list)"
   ]
  },
  {
   "cell_type": "code",
   "execution_count": 12,
   "metadata": {
    "scrolled": true
   },
   "outputs": [
    {
     "name": "stdout",
     "output_type": "stream",
     "text": [
      "{\"item_id\": \"0\", \"quantiles\": {\"0.1\": [1.6836708774500941, 1.3459220587634255, 1.2794438968620294, 1.5685811548861057, 1.4762431789454158, 1.5028084040413205, 1.8883717942488332, 1.6330475467354955, 1.5684890987332918, 1.4826444264501741, 1.7830962003789306, 1.5939098498840787], \"0.2\": [1.920602424203765, 1.9718953001761617, 1.6995023159565712, 1.8263504590140518, 1.902724896314878, 1.8205976567242148, 2.0653552536703534, 1.9735749351493324, 1.9506841365559424, 1.888436017604459, 2.0472556393961723, 1.9082684966100345], \"0.3\": [2.1623539369328393, 2.1639666802506414, 2.03170568575243, 2.0323324750050675, 2.1709550421378645, 2.1627820452559514, 2.2317351500392477, 2.312439851736791, 2.1969237389391787, 2.188039879769499, 2.1810808210984067, 2.141758071199021], \"0.4\": [2.535394003539569, 2.4028181606280374, 2.271119473993988, 2.2963657866435074, 2.399004529626709, 2.4504841027529, 2.376205256756106, 2.5649156033833234, 2.434253137431879, 2.368485043253767, 2.3594630672039796, 2.2815366068053122], \"0.5\": [2.7157861090206024, 2.570426779928816, 2.5224945358548676, 2.4953308327962804, 2.4972749215143253, 2.737532936370788, 2.567514882016102, 2.6493660683583538, 2.58282320785222, 2.561561897832864, 2.466027020872532, 2.5865017229823706], \"0.6\": [2.8540086326117273, 2.694454162921246, 2.705184814368056, 2.6281687258066686, 2.6010759951564153, 2.9133036634451654, 2.7460323197885463, 2.828653647482575, 2.8282280346024415, 2.7689621105682822, 2.7149137772482193, 2.8309250341890078], \"0.7\": [3.07069298117309, 2.8329918886252767, 2.891246393328734, 2.8016980065312445, 2.8798028048036652, 3.083762587769557, 3.0055877440243153, 3.0750078850987084, 2.992271120856864, 2.9068533546314526, 3.0240623041934467, 2.9578625563135006], \"0.8\": [3.3680927519470263, 3.232967694791532, 3.1456053075596833, 2.975061340372876, 3.1050458603532545, 3.3905442438001527, 3.247668329576125, 3.248321262353949, 3.1668151456842293, 3.3031782473177875, 3.192007122953949, 3.2844469645406957], \"0.9\": [3.655270858904573, 3.8300716459489292, 3.4510282060557644, 3.3780381161193107, 3.393074112177672, 3.785482021570961, 3.49876941761916, 3.4834349781806218, 3.5655255551274387, 3.581987724404788, 3.5031816204393174, 3.4779917586054823]}, \"mean\": [2.640855157941705, 2.5646539900464362, 2.462382482541194, 2.4667854349846996, 2.5224405499687688, 2.6007411803931344, 2.621581996264429, 2.6555345597023527, 2.5696768354801867, 2.558940609847029, 2.5834312596992857, 2.5493624247721263]}\n",
      "{\"item_id\": \"1\", \"quantiles\": {\"0.1\": [23.74916199524048, 24.254806619296296, 23.89353215427088, 24.290778542426274, 25.63174696631833, 24.603352338722686, 24.68834598316481, 23.859375287727488, 23.608598926952183, 23.317501787000865, 24.020923556872084, 23.80979972707661], \"0.2\": [25.60608652807464, 25.961866002269193, 25.27147111848416, 25.350661424025038, 26.456152350994405, 25.986428870373725, 26.014420197552305, 25.98352636965936, 24.977302116324935, 24.819046418087034, 26.195721336010013, 25.093540358502143], \"0.3\": [27.442837562834896, 27.20721230926027, 26.613966062520763, 26.91329195708682, 27.12004484623295, 26.994615136081006, 27.297114367729822, 27.375313417674818, 26.536162595478554, 26.27417801728991, 27.317748384416586, 26.494938649012568], \"0.4\": [28.34586846884478, 28.270267811005166, 27.51399502976613, 28.108258951548947, 28.154111565605483, 28.04602717220779, 28.060614944734244, 28.009624617750266, 27.268729214988447, 27.59859821317254, 28.185862003208843, 27.695355130425433], \"0.5\": [29.10653557334506, 29.143909508803908, 28.54152163928135, 29.014791942018668, 29.525427611250688, 28.726036460237317, 29.159464531463318, 28.62990721100913, 28.387453824814106, 28.85295390393048, 29.3072512633699, 29.210000005069574], \"0.6\": [30.071199774414946, 29.939729931138054, 29.208981699188673, 29.740243024615125, 30.37406862303814, 29.322612834125326, 29.905534582590445, 29.428311807557467, 29.561108660089896, 29.943780896771734, 29.75803837864634, 30.028425815080038], \"0.7\": [30.894135836950486, 30.578574046332314, 30.491745327457643, 30.60138161073191, 31.490585469991174, 30.31907097123615, 31.30713210247187, 30.4158871487976, 30.50357172371412, 31.139923081395946, 30.359824081959346, 30.662184469062083], \"0.8\": [32.106013163067615, 31.281896444418287, 31.562085577574805, 31.63241489163805, 32.132633428674964, 31.926452667746, 32.74205245869497, 31.85806111219139, 31.703711172742736, 32.099449755715874, 31.107428760475145, 31.836709826250452], \"0.9\": [33.892406902239884, 33.615867949097854, 32.8329950305217, 33.283427599273246, 32.955386397540124, 33.81463133432876, 34.08905176916681, 33.803165869502685, 34.2097797546345, 33.68124669192614, 33.16042759581325, 33.4662644451291]}, \"mean\": [28.971893800133543, 28.915713167454964, 28.465497662952302, 28.911113472942464, 29.354355354795654, 28.78854705701443, 29.255098980655568, 28.89728914993642, 28.52802005145479, 28.594389809178878, 28.728328515283078, 28.63618245155858]}\n",
      "\n",
      "CPU times: user 13.7 ms, sys: 231 µs, total: 14 ms\n",
      "Wall time: 4.18 s\n"
     ]
    }
   ],
   "source": [
    "%%time\n",
    "\n",
    "response = runtime_sm_client.invoke_endpoint(\n",
    "    EndpointName=endpoint_name,\n",
    "    ContentType='application/json',\n",
    "    TargetModel='MeanPredictor.tar.gz', # this is the rest of the S3 path where the model artifacts are located\n",
    "    Body=payload)\n",
    "\n",
    "print(response['Body'].read().decode(\"utf-8\"), sep = '\\n')"
   ]
  },
  {
   "cell_type": "markdown",
   "metadata": {},
   "source": [
    "When we invoke the same models a __`2nd`__ time, it is already downloaded to the instance and loaded in the container, so __`inference is faster`__."
   ]
  },
  {
   "cell_type": "code",
   "execution_count": 13,
   "metadata": {
    "scrolled": true
   },
   "outputs": [
    {
     "name": "stdout",
     "output_type": "stream",
     "text": [
      "{\"item_id\": \"0\", \"quantiles\": {\"0.1\": [1.423646103635795, 1.4244855612323308, 1.7955984645359282, 1.6185297296529932, 1.4971168910949333, 1.409791466128483, 1.5487292063807596, 1.489198716173964, 1.6668053206242415, 1.4101198318373516, 1.6540691627134603, 1.5076646914320924], \"0.2\": [1.805119108074844, 1.9672950606047408, 2.100561623173293, 1.979248640570927, 1.7915881498935398, 1.7220097630362785, 1.9769095657259328, 1.8605283661047287, 1.9150668139811335, 1.962038534074229, 1.9466996698154517, 1.9075864550234036], \"0.3\": [2.089584708878582, 2.15403457693724, 2.3803876996449014, 2.131217995525174, 2.1257642882637264, 1.8946281606558881, 2.206056796087563, 2.193483912385975, 2.2115369082876377, 2.235224572942, 2.1619749927372847, 2.0664737174619656], \"0.4\": [2.299868019461437, 2.2765289159240627, 2.549544892279797, 2.3037481683350904, 2.22877167733201, 2.187668900749337, 2.287585380384888, 2.415537593353405, 2.485359781056723, 2.502719394770962, 2.3651967944838463, 2.2932707341393552], \"0.5\": [2.46604193337372, 2.4243427295111757, 2.6797485707066335, 2.63839934040105, 2.349079682086357, 2.485818076495704, 2.4636859084487455, 2.5734213250076112, 2.646411073892868, 2.6495103788951364, 2.5128667164540355, 2.4244518951518934], \"0.6\": [2.617461232347608, 2.6304768677393966, 2.822686455748615, 2.8068770610837133, 2.5639441322734724, 2.7524015646755995, 2.758607783676865, 2.744038690297201, 2.835383628013422, 2.8056542445865746, 2.8184645259806786, 2.595568324638498], \"0.7\": [2.778460862085583, 2.958085125815133, 3.04408898850681, 2.906248400141027, 2.7617852379822, 2.9185745112999935, 2.8760806185171828, 2.9033973007925953, 3.042213910090379, 3.096564510732853, 3.040399467129749, 2.7384628789883205], \"0.8\": [3.0344658011736576, 3.1910533157392713, 3.317936336677271, 3.210263024279226, 3.0980598091040177, 3.210045690889057, 3.1196343980028662, 3.0802692357302117, 3.3491557724839236, 3.3804105489992784, 3.3535510125273174, 3.002222726720217], \"0.9\": [3.4762291195943984, 3.5309142668654534, 3.6207031004433596, 3.4863175451914334, 3.4059459994225243, 3.6587892071786463, 3.5203792483301126, 3.4983957832275596, 3.761639718448767, 3.75757606340479, 3.6971162682385033, 3.5216216589616502]}, \"mean\": [2.446956117409252, 2.505100721584931, 2.695306672289428, 2.597766260764445, 2.418974170020214, 2.4633071072856807, 2.5148925233324735, 2.5591497558862013, 2.634861952101096, 2.6395118150316113, 2.6046293607602617, 2.4567309751946436]}\n",
      "{\"item_id\": \"1\", \"quantiles\": {\"0.1\": [25.11320239781154, 24.037506525237006, 23.98133378026871, 24.509521684216242, 23.120499208312864, 23.582358382083548, 24.325717229422416, 25.10656726334969, 24.27853180737412, 23.411567631682512, 24.0743431203648, 22.663950463158116], \"0.2\": [26.716170959663827, 25.11121903104268, 25.042459911789756, 25.602899884798383, 24.918069942878404, 26.055446867240658, 25.63610823124318, 26.08072756077962, 26.394938466192336, 25.8377840890433, 26.439272237848673, 25.99828056323301], \"0.3\": [27.589737111202357, 26.493184429893642, 26.4212277712354, 27.10143455558753, 27.127443025411296, 27.382405467446766, 26.58370401400102, 26.94670789671609, 27.478820840925447, 27.04830543793485, 27.448256007981858, 26.67054899384113], \"0.4\": [27.989074528318984, 28.025623140738002, 26.87200689065928, 28.109480011464044, 27.760569414352396, 28.120617370132916, 27.647834285577094, 28.076745264100218, 28.688216880529506, 28.086501849853242, 28.858522320712986, 27.81730202975151], \"0.5\": [28.78855781299016, 28.999206717669363, 27.875303642017663, 28.98952414652262, 28.725002633077256, 28.975938729931357, 28.34029788765293, 29.19450172929019, 29.300325922620605, 28.43627217897556, 29.858594816523834, 28.768943529379882], \"0.6\": [29.367362109398695, 29.85777001666727, 28.520602352619978, 30.12240832050773, 30.25388805900105, 30.038355920844708, 29.594928806090188, 29.838821093828297, 30.030044552458833, 29.272513698414425, 30.41179157630645, 29.616048382756894], \"0.7\": [30.910352013621626, 31.385676133360537, 29.83574302425903, 31.385886238308117, 31.097570541165382, 31.27542648200204, 30.40398101215606, 30.614564908754325, 31.254322744829583, 30.74495895893074, 31.416023093890228, 30.691488935909984], \"0.8\": [32.09898102685829, 32.08891051241268, 31.043079271788216, 32.29353348174557, 32.106484815214266, 32.268246932888694, 31.117796554666526, 31.263837652303224, 32.44358035387459, 31.854374617809896, 32.741462045317824, 31.42062051396507], \"0.9\": [34.03577684014732, 33.44554499504973, 32.61503667490077, 34.527430563745355, 34.03166678165814, 33.909829381151695, 32.220710265479894, 33.147978793338204, 33.76388224106728, 32.9573777118341, 33.99696343822911, 33.733543798089265]}, \"mean\": [29.112615915832944, 28.83641793784061, 28.004217293135312, 29.133496190266293, 28.97386449431999, 28.842936165713652, 28.460222046890532, 29.026855182356073, 29.186181496666048, 28.572099950156726, 29.48407820836962, 28.630599576216717]}\n",
      "\n",
      "CPU times: user 183 µs, sys: 3.84 ms, total: 4.02 ms\n",
      "Wall time: 20.9 ms\n"
     ]
    }
   ],
   "source": [
    "%%time\n",
    "\n",
    "response = runtime_sm_client.invoke_endpoint(\n",
    "    EndpointName=endpoint_name,\n",
    "    ContentType='application/json',\n",
    "    TargetModel='MeanPredictor.tar.gz',\n",
    "    Body=payload)\n",
    "\n",
    "print(response['Body'].read().decode(\"utf-8\"), sep = '\\n')"
   ]
  },
  {
   "cell_type": "markdown",
   "metadata": {},
   "source": [
    "### Invoke other models\n",
    "Exercising the power of a multi-model endpoint, we can specify different models (e.g., DeepAREstimator.tar.gz) as `TargetModel` and perform inference on it using the same endpoint."
   ]
  },
  {
   "cell_type": "code",
   "execution_count": 14,
   "metadata": {},
   "outputs": [
    {
     "name": "stdout",
     "output_type": "stream",
     "text": [
      "{\"item_id\": \"0\", \"quantiles\": {\"0.1\": [2.0058059692382812, 2.0848548412323, 2.1319191455841064, 1.7626827955245972, 2.1028003692626953, 2.1341395378112793, 2.153954029083252, 1.4223262071609497, 1.8531743288040161, 2.1007485389709473, 2.023390293121338, 1.9111007452011108], \"0.2\": [2.250101089477539, 2.2457194328308105, 2.2871243953704834, 1.9063371419906616, 2.3267104625701904, 2.3346588611602783, 2.345787286758423, 1.5654994249343872, 2.0083627700805664, 2.2628791332244873, 2.159290075302124, 2.080110549926758], \"0.3\": [2.3288064002990723, 2.4233856201171875, 2.3600692749023438, 1.9544258117675781, 2.4445018768310547, 2.5232415199279785, 2.528930187225342, 1.7129929065704346, 2.116767168045044, 2.4026944637298584, 2.377838134765625, 2.2108047008514404], \"0.4\": [2.41412615776062, 2.476562738418579, 2.456324577331543, 2.087014675140381, 2.514258623123169, 2.5901424884796143, 2.676973342895508, 1.8229917287826538, 2.2375881671905518, 2.5167603492736816, 2.456094264984131, 2.2990314960479736], \"0.5\": [2.5255746841430664, 2.522184133529663, 2.5094778537750244, 2.1893575191497803, 2.5785491466522217, 2.681475877761841, 2.7859489917755127, 1.89691162109375, 2.327765703201294, 2.612100839614868, 2.588010549545288, 2.4116156101226807], \"0.6\": [2.5778965950012207, 2.590466260910034, 2.6038496494293213, 2.2933032512664795, 2.6625564098358154, 2.7807390689849854, 2.8679938316345215, 1.9971269369125366, 2.395672559738159, 2.7096986770629883, 2.6925384998321533, 2.4974098205566406], \"0.7\": [2.6789631843566895, 2.6922101974487305, 2.7285945415496826, 2.4181528091430664, 2.7581963539123535, 2.878824472427368, 2.990676164627075, 2.1288981437683105, 2.482356548309326, 2.8257710933685303, 2.7962872982025146, 2.5492660999298096], \"0.8\": [2.7652249336242676, 2.78879714012146, 2.854750156402588, 2.551793336868286, 2.895071268081665, 3.033524751663208, 3.157639741897583, 2.219834804534912, 2.685163974761963, 2.958743095397949, 2.919548749923706, 2.6147706508636475], \"0.9\": [2.917468547821045, 3.0220181941986084, 3.058338165283203, 2.8172168731689453, 3.1398844718933105, 3.214970827102661, 3.422821283340454, 2.4087603092193604, 2.8729984760284424, 3.154329538345337, 3.0672078132629395, 2.7961254119873047]}, \"mean\": [2.4923038482666016, 2.5434224605560303, 2.5547690391540527, 2.227118730545044, 2.6070525646209717, 2.7087583541870117, 2.8014421463012695, 1.9086737632751465, 2.3270018100738525, 2.6357309818267822, 2.561795234680176, 2.360281467437744]}\n",
      "{\"item_id\": \"1\", \"quantiles\": {\"0.1\": [21.7309627532959, 21.21268081665039, 24.96367835998535, 30.535606384277344, 31.646024703979492, 31.800214767456055, 29.574499130249023, 28.26167869567871, 30.742969512939453, 30.591142654418945, 26.135709762573242, 22.19205093383789], \"0.2\": [21.87860107421875, 21.355621337890625, 25.35462760925293, 30.889272689819336, 32.06098937988281, 32.10415267944336, 30.13384246826172, 28.543546676635742, 31.06096839904785, 31.10061264038086, 26.431541442871094, 22.44685173034668], \"0.3\": [21.94552230834961, 21.467607498168945, 25.627845764160156, 31.145336151123047, 32.388954162597656, 32.49728012084961, 30.409595489501953, 28.90245246887207, 31.26402473449707, 31.42530632019043, 26.86223602294922, 22.66167449951172], \"0.4\": [22.08354377746582, 21.56975746154785, 25.805925369262695, 31.380191802978516, 32.730770111083984, 32.83235549926758, 30.67211151123047, 29.14577865600586, 31.54178237915039, 31.713287353515625, 27.070829391479492, 22.84776496887207], \"0.5\": [22.218292236328125, 21.774890899658203, 26.012914657592773, 31.58818244934082, 33.000083923339844, 32.95716857910156, 30.99258041381836, 29.31458282470703, 31.746807098388672, 31.857694625854492, 27.179393768310547, 22.985553741455078], \"0.6\": [22.288345336914062, 21.904098510742188, 26.232715606689453, 31.930545806884766, 33.121421813964844, 33.20529556274414, 31.324321746826172, 29.696269989013672, 31.96688461303711, 32.0379753112793, 27.339420318603516, 23.078460693359375], \"0.7\": [22.409788131713867, 22.050113677978516, 26.3481502532959, 32.207820892333984, 33.37940979003906, 33.457889556884766, 31.555667877197266, 29.897506713867188, 32.30264663696289, 32.19894790649414, 27.5301513671875, 23.25338363647461], \"0.8\": [22.544925689697266, 22.20128059387207, 26.659643173217773, 32.704345703125, 33.871917724609375, 33.83296585083008, 32.03856658935547, 30.25775909423828, 32.70680618286133, 32.497806549072266, 27.84885597229004, 23.34166717529297], \"0.9\": [22.759546279907227, 22.396825790405273, 27.00908088684082, 33.32112121582031, 34.54484558105469, 34.34777069091797, 32.302154541015625, 30.656400680541992, 33.03704071044922, 33.15358352661133, 28.295879364013672, 23.707834243774414]}, \"mean\": [22.204221725463867, 21.783876419067383, 26.028766632080078, 31.76331329345703, 33.017539978027344, 33.012638092041016, 30.972806930541992, 29.397367477416992, 31.836326599121094, 31.80663299560547, 27.21340560913086, 22.96190643310547]}\n",
      "\n",
      "CPU times: user 4.45 ms, sys: 56 µs, total: 4.5 ms\n",
      "Wall time: 3.72 s\n"
     ]
    }
   ],
   "source": [
    "%%time\n",
    "\n",
    "response = runtime_sm_client.invoke_endpoint(\n",
    "    EndpointName=endpoint_name,\n",
    "    ContentType='application/json',\n",
    "    TargetModel='DeepAREstimator.tar.gz',\n",
    "    Body=payload)\n",
    "\n",
    "print(response['Body'].read().decode(\"utf-8\"), sep = '\\n')"
   ]
  },
  {
   "cell_type": "code",
   "execution_count": 15,
   "metadata": {},
   "outputs": [
    {
     "name": "stdout",
     "output_type": "stream",
     "text": [
      "{\"item_id\": null, \"quantiles\": {\"0.1\": [0.18148276617262526, 0.3198412483517252, 0.11849932864266854, 0.411343906972496, 0.004403061488035487, -0.04578059200794696, -0.27764912872607517, -0.09400640819804756, -0.504227514273526, -0.13732209137043672, -0.15145200349425147, -0.847737190886434], \"0.2\": [1.2438235772273658, 1.0318727403506809, 0.8608082994869592, 1.2409827683028785, 0.6357459088267154, 0.8255816648621153, 0.7127809167764643, 0.9434364976374717, 0.6198691127527405, 0.5638587350804194, 0.3933465240425702, 0.5061232380146841], \"0.3\": [1.752839928106999, 1.5651237848625699, 1.2734625513551545, 1.6892401039977127, 1.1456370615316522, 1.369433178060636, 1.3880850771848765, 1.4925396445319707, 1.1776492815623814, 1.3361671086434446, 1.0216989782950103, 0.9802164539115574], \"0.4\": [2.2029614546021365, 1.9157150441236104, 1.7357722803468945, 1.9374095438189973, 2.016817544158278, 1.8715178133726045, 2.123673137681477, 1.9625478317091734, 2.073336239688927, 1.7778421123843846, 1.895371633885211, 1.478361803626103], \"0.5\": [2.441763584423661, 2.3226962858046676, 2.211352927958185, 2.181205895242324, 2.334678511961957, 2.2596802084197227, 2.566145509496832, 2.4442235032494573, 2.616357004963581, 2.5108529416393477, 2.5011049764856312, 2.1574098386020917], \"0.6\": [2.644244964854216, 2.738103618891395, 2.563487556458891, 2.604731867786327, 2.987186720864723, 2.5037789060457545, 2.954168230119604, 2.8679582078760246, 3.2270691987169418, 2.9888697029392057, 3.0123167281563106, 2.4828591946225425], \"0.7\": [2.9703381127738977, 3.3213521199270537, 2.9883904453682444, 3.2864018101461805, 3.457572597574262, 3.0187530762582258, 3.29934338630093, 3.3535137497764786, 3.5741385617932204, 3.6818645463678323, 3.551468940912218, 3.2551022021262868], \"0.8\": [3.4333653942829505, 3.7000938429799435, 3.6718501572814395, 3.6280580357957977, 4.030204970802955, 3.508956028284252, 3.896688768327693, 3.9289810085777237, 4.105084785123794, 4.331126024899174, 4.251790877850608, 4.2209391467890995], \"0.9\": [3.6063585733130283, 3.9504810667003527, 4.271868781909029, 4.171194203964516, 4.4688880935051145, 4.605005875181583, 5.237436439608267, 5.136483334633696, 5.045836377582763, 5.389308390272621, 5.454481903371776, 5.232089362285185]}, \"mean\": [2.2594148239901726, 2.3005090529826853, 2.1969125290243365, 2.273033758170924, 2.3155212930459244, 2.212452947288458, 2.4538372208969053, 2.4334215728236592, 2.44903395966152, 2.554491312041613, 2.4852212453940528, 2.1674185913596213]}\n",
      "{\"item_id\": null, \"quantiles\": {\"0.1\": [20.879164483025317, 20.89907969923835, 25.790532130467337, 29.934265623048912, 30.40166152395617, 30.131645500612656, 28.588891402701567, 26.835655109586114, 29.246651054802964, 30.314839989353448, 25.365857510927817, 21.871238271014153], \"0.2\": [21.579462532129938, 21.625029908066058, 26.366870172586292, 30.420367070028046, 30.813014843543428, 30.71625975275218, 29.151239426551093, 28.033183678821782, 30.077809293470587, 30.804720065355237, 25.945392478547646, 22.741841631897177], \"0.3\": [22.069949907468295, 22.005542473537385, 27.028314966042092, 30.747640231375303, 31.294700485367557, 31.206802947721727, 29.801165869586804, 28.823776019250076, 30.820265176050533, 31.323311611797624, 26.270134196298077, 23.62356648405545], \"0.4\": [22.48644260697395, 22.454224269318903, 27.302630823507073, 31.06532974697824, 31.590838974414165, 31.915235890829482, 30.058515254332576, 29.19606467480901, 31.371987439936202, 31.975163622302887, 26.801441631472645, 23.854549149810467], \"0.5\": [23.04721315356708, 23.03208719599161, 27.827436929110117, 31.55492712975264, 31.876317915571278, 32.28092792574166, 30.492493899966057, 29.412081187063897, 31.688056832191883, 32.516832372736616, 27.37610647452416, 24.48973685254278], \"0.6\": [23.37333385431443, 23.382031773928453, 28.172146170333484, 31.810155845182337, 32.024625640337725, 32.61098010838126, 30.947564942654164, 29.7671249455197, 32.2630678840357, 32.8373878576727, 27.883763945567534, 24.917649252639546], \"0.7\": [23.90582265708801, 23.907661797339664, 28.802349418298707, 32.28977302287149, 32.48908624405893, 32.78877888858678, 31.265984678987508, 30.151726217512888, 32.76400951482401, 33.201068901051684, 28.346878719667178, 25.26597443749232], \"0.8\": [24.205800695828344, 24.278974234345586, 29.348124847355443, 32.61908728595325, 33.18963866043344, 33.25482554962282, 31.63106774063619, 30.50467218812816, 33.329419061904645, 33.69932075695312, 28.768246057710485, 25.757816423533697], \"0.9\": [24.618545375263043, 24.85308401705562, 29.935472594889397, 33.10913800699474, 33.79140393265936, 33.82020494470884, 32.45471659206896, 31.112444978305973, 34.0398986234697, 34.188256220651496, 29.34110348150287, 26.57563194334673]}, \"mean\": [22.868378930938714, 22.982634005025037, 27.808012750913967, 31.492264152583758, 31.93097247178577, 32.08877168952175, 30.532176247354855, 29.344630589171803, 31.74284741885654, 32.36905615522287, 27.317949812206344, 24.33832229323923]}\n",
      "\n",
      "CPU times: user 4.76 ms, sys: 0 ns, total: 4.76 ms\n",
      "Wall time: 5.32 s\n"
     ]
    }
   ],
   "source": [
    "%%time\n",
    "\n",
    "response = runtime_sm_client.invoke_endpoint(\n",
    "    EndpointName=endpoint_name,\n",
    "    ContentType='application/json',\n",
    "    TargetModel='RForecastPredictor.tar.gz',\n",
    "    Body=payload)\n",
    "\n",
    "print(response['Body'].read().decode(\"utf-8\"), sep = '\\n')"
   ]
  },
  {
   "cell_type": "code",
   "execution_count": 16,
   "metadata": {},
   "outputs": [
    {
     "name": "stdout",
     "output_type": "stream",
     "text": [
      "{\"item_id\": null, \"quantiles\": {\"0.1\": [0.5930952134767706, 0.6731662001592016, 0.3695854392420037, 0.7794866983198159, 0.903604868377399, 0.8471579536059082, 0.8699702973042449, -0.03352734240836752, 0.06541579696189292, 0.35512063650832904, 0.14095854195632262, 0.381850419260251], \"0.2\": [1.14577455973552, 1.3339385008257056, 0.7803199516421508, 1.2918720851876282, 1.398997204940614, 1.2620057989794327, 1.3358825084023809, 0.7742404827857581, 0.5588027572296927, 0.5569706272283665, 0.661942395575535, 0.8351638852697262], \"0.3\": [1.4987660422398452, 1.668511016064593, 1.272430998864056, 1.6955004024231497, 1.880906929608446, 1.563464021059021, 1.657705629441228, 1.3925979695603954, 0.7537146597888734, 1.063703569386945, 1.1928283117285745, 1.3469376591821351], \"0.4\": [1.7925902986900557, 1.9173754001515324, 1.4178542972431227, 2.0751247003088777, 2.0594082907028235, 2.0187464565195827, 2.061139721812967, 1.6784624410738136, 0.9965063927024583, 1.2894270974807087, 1.3429899793948428, 1.566574515880793], \"0.5\": [2.122963879317672, 2.111308291099746, 1.9181133495900455, 2.360105733027722, 2.2507940479342166, 2.312833540085087, 2.227339697692776, 1.9463203325785645, 1.2840925888276098, 1.7287907217059881, 1.7677382255222875, 1.9563857900336719], \"0.6\": [2.394545149719051, 2.3388912718856263, 2.3045110910697146, 2.5752815989089477, 2.676795417935047, 2.4098081679054677, 2.5445655024704985, 2.1055868968948532, 1.7196890793553021, 1.8889565835624729, 2.112735679561933, 2.1297719201173613], \"0.7\": [2.772292446017245, 2.568526294937664, 2.6294801806445403, 2.8450768888767373, 2.8964746022265846, 2.7535106851276705, 2.856013726541808, 2.56299132738712, 2.1260075754349557, 2.1842247036669113, 2.5740000805702192, 2.573155322434158], \"0.8\": [3.2456612996271033, 2.918351760244154, 3.229061887938581, 3.4074315272552353, 3.2853616486319215, 3.2521058163657326, 3.114961804403517, 2.8578571472693683, 2.5186911681525532, 2.6174162902141984, 2.794541772383578, 3.0912093022587968], \"0.9\": [3.5347323947696534, 3.346213461382562, 3.5625025215123998, 3.8030065258718007, 3.820704498094934, 4.059244528718088, 3.4717618281714318, 3.2640829896337547, 2.967547500804082, 3.2849461839410132, 3.2597975196623916, 3.516215553353843]}, \"mean\": [2.1651298578618037, 2.091743304343014, 1.8735751612659137, 2.3210455447314216, 2.3472423483892433, 2.3161760524306683, 2.2384208350575814, 1.8311620411521294, 1.4665960836069614, 1.644554887724715, 1.7722038684937247, 1.9454568599368403]}\n",
      "{\"item_id\": null, \"quantiles\": {\"0.1\": [20.935870243098755, 21.41293461906404, 25.78564123221261, 29.531548875858192, 29.98813286298817, 30.415771531607845, 29.16272009690748, 26.847231370764618, 30.427271033876252, 30.404524480541948, 26.039696191911947, 23.031481076233145], \"0.2\": [22.141210237232084, 22.010285013984515, 26.659679383892104, 30.29500642210858, 30.55293399983512, 31.256941536345394, 29.927130368947292, 27.69203957421336, 30.77805340826816, 30.88786304399104, 26.660415691631602, 23.64542169319233], \"0.3\": [22.698266948937533, 22.643631264031306, 27.23600664934937, 30.861401547276373, 31.195997534139924, 31.601615767733087, 30.352227614934282, 27.98819709632676, 31.025730990102545, 31.512196399780255, 27.115584729324162, 24.004763307266796], \"0.4\": [22.918739427988683, 22.820700276762, 27.764746632937296, 31.124553552322237, 31.74572418340923, 31.95048833132693, 30.831909043765787, 28.67583053044541, 31.534314820074535, 31.8937450878544, 27.43614954834332, 24.322620318575833], \"0.5\": [23.41115123795649, 23.29194074142898, 28.040571842759178, 31.551930527320295, 32.080493458444955, 32.25280852853413, 31.030426532653134, 28.969227645106447, 31.993973222240943, 32.26995077557683, 27.942431646166227, 24.711765299282025], \"0.6\": [23.785171375175644, 23.54559699295636, 28.323498669220434, 31.811606119136606, 32.34301251233546, 32.66928571803672, 31.390856770325833, 29.21511792205708, 32.19740079730861, 32.865518182359274, 28.371960509286044, 25.108788290009027], \"0.7\": [24.030605228841193, 23.983878329446316, 28.695860965654084, 32.47803907313317, 32.694404215599015, 33.061373266450076, 31.79484194265841, 29.635956240942146, 32.78376776487221, 33.46141856031985, 28.813834718795057, 25.379381181542758], \"0.8\": [24.496997072043815, 24.349688632857443, 29.36614137002007, 32.793076273275254, 33.10141093948292, 33.341783808105596, 32.55612806893282, 29.98727505652908, 33.40807008870742, 33.79083960467455, 29.278682179772375, 25.748915868799102], \"0.9\": [25.127379964259347, 25.548750434547504, 29.88663738824812, 33.15767906767483, 33.79242407627312, 34.50203195676699, 33.41441213100419, 30.711959127815796, 33.966532850009955, 34.4397695966325, 29.923443207488173, 26.392449722289257]}, \"mean\": [23.26504124939108, 23.262417232815395, 27.925960482596203, 31.499984094615193, 31.94782770262524, 32.32223293717447, 31.14355665487511, 28.89322721263071, 32.05828066428873, 32.38642782419667, 27.971583738130345, 24.7311768122949]}\n",
      "\n",
      "CPU times: user 4.63 ms, sys: 83 µs, total: 4.71 ms\n",
      "Wall time: 6.3 s\n"
     ]
    }
   ],
   "source": [
    "%%time\n",
    "\n",
    "response = runtime_sm_client.invoke_endpoint(\n",
    "    EndpointName=endpoint_name,\n",
    "    ContentType='application/json',\n",
    "    TargetModel='ProphetPredictor.tar.gz',\n",
    "    Body=payload)\n",
    "\n",
    "print(response['Body'].read().decode(\"utf-8\"), sep = '\\n')"
   ]
  },
  {
   "cell_type": "code",
   "execution_count": 17,
   "metadata": {},
   "outputs": [
    {
     "name": "stdout",
     "output_type": "stream",
     "text": [
      "{\"item_id\": null, \"quantiles\": {\"0.1\": [2.855329990386963, 2.855329990386963, 2.855329990386963, 2.062182664871216, 3.4898476600646973, 2.5380711555480957, 1.7449238300323486, 1.4276649951934814, 2.2208120822906494, 2.5380711555480957, 2.062182664871216, 2.379441738128662], \"0.2\": [2.855329990386963, 2.855329990386963, 2.855329990386963, 2.062182664871216, 3.4898476600646973, 2.5380711555480957, 1.7449238300323486, 1.4276649951934814, 2.2208120822906494, 2.5380711555480957, 2.062182664871216, 2.379441738128662], \"0.3\": [2.855329990386963, 2.855329990386963, 2.855329990386963, 2.062182664871216, 3.4898476600646973, 2.5380711555480957, 1.7449238300323486, 1.4276649951934814, 2.2208120822906494, 2.5380711555480957, 2.062182664871216, 2.379441738128662], \"0.4\": [2.855329990386963, 2.855329990386963, 2.855329990386963, 2.062182664871216, 3.4898476600646973, 2.5380711555480957, 1.7449238300323486, 1.4276649951934814, 2.2208120822906494, 2.5380711555480957, 2.062182664871216, 2.379441738128662], \"0.5\": [2.855329990386963, 2.855329990386963, 2.855329990386963, 2.062182664871216, 3.4898476600646973, 2.5380711555480957, 1.7449238300323486, 1.4276649951934814, 2.2208120822906494, 2.5380711555480957, 2.062182664871216, 2.379441738128662], \"0.6\": [2.855329990386963, 2.855329990386963, 2.855329990386963, 2.062182664871216, 3.4898476600646973, 2.5380711555480957, 1.7449238300323486, 1.4276649951934814, 2.2208120822906494, 2.5380711555480957, 2.062182664871216, 2.379441738128662], \"0.7\": [2.855329990386963, 2.855329990386963, 2.855329990386963, 2.062182664871216, 3.4898476600646973, 2.5380711555480957, 1.7449238300323486, 1.4276649951934814, 2.2208120822906494, 2.5380711555480957, 2.062182664871216, 2.379441738128662], \"0.8\": [2.855329990386963, 2.855329990386963, 2.855329990386963, 2.062182664871216, 3.4898476600646973, 2.5380711555480957, 1.7449238300323486, 1.4276649951934814, 2.2208120822906494, 2.5380711555480957, 2.062182664871216, 2.379441738128662], \"0.9\": [2.855329990386963, 2.855329990386963, 2.855329990386963, 2.062182664871216, 3.4898476600646973, 2.5380711555480957, 1.7449238300323486, 1.4276649951934814, 2.2208120822906494, 2.5380711555480957, 2.062182664871216, 2.379441738128662]}, \"mean\": [2.855329990386963, 2.855329990386963, 2.855329990386963, 2.062182664871216, 3.4898476600646973, 2.5380711555480957, 1.7449238300323486, 1.4276649951934814, 2.2208120822906494, 2.5380711555480957, 2.062182664871216, 2.379441738128662]}\n",
      "{\"item_id\": null, \"quantiles\": {\"0.1\": [23.026315689086914, 23.026315689086914, 30.227596282958984, 32.45021438598633, 31.38335609436035, 30.938833236694336, 29.33854866027832, 28.98293113708496, 30.672119140625, 30.938833236694336, 27.204835891723633, 24.715505599975586], \"0.2\": [23.026315689086914, 23.026315689086914, 30.227596282958984, 32.45021438598633, 31.38335609436035, 30.938833236694336, 29.33854866027832, 28.98293113708496, 30.672119140625, 30.938833236694336, 27.204835891723633, 24.715505599975586], \"0.3\": [23.026315689086914, 23.026315689086914, 30.227596282958984, 32.45021438598633, 31.38335609436035, 30.938833236694336, 29.33854866027832, 28.98293113708496, 30.672119140625, 30.938833236694336, 27.204835891723633, 24.715505599975586], \"0.4\": [23.026315689086914, 23.026315689086914, 30.227596282958984, 32.45021438598633, 31.38335609436035, 30.938833236694336, 29.33854866027832, 28.98293113708496, 30.672119140625, 30.938833236694336, 27.204835891723633, 24.715505599975586], \"0.5\": [23.026315689086914, 23.026315689086914, 30.227596282958984, 32.45021438598633, 31.38335609436035, 30.938833236694336, 29.33854866027832, 28.98293113708496, 30.672119140625, 30.938833236694336, 27.204835891723633, 24.715505599975586], \"0.6\": [23.026315689086914, 23.026315689086914, 30.227596282958984, 32.45021438598633, 31.38335609436035, 30.938833236694336, 29.33854866027832, 28.98293113708496, 30.672119140625, 30.938833236694336, 27.204835891723633, 24.715505599975586], \"0.7\": [23.026315689086914, 23.026315689086914, 30.227596282958984, 32.45021438598633, 31.38335609436035, 30.938833236694336, 29.33854866027832, 28.98293113708496, 30.672119140625, 30.938833236694336, 27.204835891723633, 24.715505599975586], \"0.8\": [23.026315689086914, 23.026315689086914, 30.227596282958984, 32.45021438598633, 31.38335609436035, 30.938833236694336, 29.33854866027832, 28.98293113708496, 30.672119140625, 30.938833236694336, 27.204835891723633, 24.715505599975586], \"0.9\": [23.026315689086914, 23.026315689086914, 30.227596282958984, 32.45021438598633, 31.38335609436035, 30.938833236694336, 29.33854866027832, 28.98293113708496, 30.672119140625, 30.938833236694336, 27.204835891723633, 24.715505599975586]}, \"mean\": [23.026315689086914, 23.026315689086914, 30.227596282958984, 32.45021438598633, 31.38335609436035, 30.938833236694336, 29.33854866027832, 28.98293113708496, 30.672119140625, 30.938833236694336, 27.204835891723633, 24.715505599975586]}\n",
      "\n",
      "CPU times: user 4.11 ms, sys: 717 µs, total: 4.83 ms\n",
      "Wall time: 2.13 s\n"
     ]
    }
   ],
   "source": [
    "%%time\n",
    "\n",
    "response = runtime_sm_client.invoke_endpoint(\n",
    "    EndpointName=endpoint_name,\n",
    "    ContentType='application/json',\n",
    "    TargetModel='SeasonalNaivePredictor.tar.gz',\n",
    "    Body=payload)\n",
    "\n",
    "print(response['Body'].read().decode(\"utf-8\"), sep = '\\n')"
   ]
  },
  {
   "cell_type": "markdown",
   "metadata": {},
   "source": [
    "# 9. How to Do Batch Transform in the Multi Model Server Framework"
   ]
  },
  {
   "cell_type": "markdown",
   "metadata": {},
   "source": [
    "The MMS does not support batch transform directly, to perform batch tranform. We need to create models seperately in Sagemaker, and do the batch transform for each model one by one. Below shows an example of how to do batch transoform for one model."
   ]
  },
  {
   "cell_type": "markdown",
   "metadata": {},
   "source": [
    "## Step 1: Create the Sagemaker model from the model artifact."
   ]
  },
  {
   "cell_type": "code",
   "execution_count": 18,
   "metadata": {},
   "outputs": [
    {
     "name": "stdout",
     "output_type": "stream",
     "text": [
      "Model name: DEMO-GluonTSModel-RForecastPredictor-2020-09-10-01-27-50\n",
      "Model data Url: https://s3-ap-southeast-2.amazonaws.com/sagemaker-ap-southeast-2-783128296767/demo-multimodel-gluonts-endpoint/models/RForecastPredictor.tar.gz\n",
      "Container image: 783128296767.dkr.ecr.ap-southeast-2.amazonaws.com/demo-sagemaker-multimodel-gluonts:latest\n",
      "Model Arn: arn:aws:sagemaker:ap-southeast-2:783128296767:model/demo-gluontsmodel-rforecastpredictor-2020-09-10-01-27-50\n"
     ]
    }
   ],
   "source": [
    "from time import gmtime, strftime\n",
    "\n",
    "model = 'RForecastPredictor'\n",
    "model_name_bt = 'DEMO-GluonTSModel-{}-'.format(model) + strftime(\"%Y-%m-%d-%H-%M-%S\", gmtime())\n",
    "model_url = 'https://s3-{}.amazonaws.com/{}/{}/{}/{}.tar.gz'.format(region, bucket, prefix, models_dir, model)\n",
    "container = '{}.dkr.ecr.{}.amazonaws.com/{}:latest'.format(account_id, region, 'demo-sagemaker-multimodel-gluonts')\n",
    "\n",
    "print('Model name: ' + model_name_bt)\n",
    "print('Model data Url: ' + model_url)\n",
    "print('Container image: ' + container)\n",
    "\n",
    "container = {\n",
    "    'Image': container,\n",
    "    'ModelDataUrl': model_url,\n",
    "    'Mode': 'SingleModel'\n",
    "}\n",
    "\n",
    "create_model_response = sm_client.create_model(\n",
    "    ModelName = model_name_bt,\n",
    "    ExecutionRoleArn = role,\n",
    "    Containers = [container])\n",
    "\n",
    "print(\"Model Arn: \" + create_model_response['ModelArn'])"
   ]
  },
  {
   "cell_type": "markdown",
   "metadata": {},
   "source": [
    "## Step 2: Start the Batch Transform Job Using the Model Created above"
   ]
  },
  {
   "cell_type": "code",
   "execution_count": 19,
   "metadata": {},
   "outputs": [
    {
     "data": {
      "text/plain": [
       "{'TransformJobArn': 'arn:aws:sagemaker:ap-southeast-2:783128296767:transform-job/demo-gluonts-rforecastpredictor-bt-2020-09-10-01-27-50',\n",
       " 'ResponseMetadata': {'RequestId': '4ab27e57-38d9-4e3d-8325-7925f4f1610e',\n",
       "  'HTTPStatusCode': 200,\n",
       "  'HTTPHeaders': {'x-amzn-requestid': '4ab27e57-38d9-4e3d-8325-7925f4f1610e',\n",
       "   'content-type': 'application/x-amz-json-1.1',\n",
       "   'content-length': '136',\n",
       "   'date': 'Thu, 10 Sep 2020 01:27:50 GMT'},\n",
       "  'RetryAttempts': 0}}"
      ]
     },
     "execution_count": 19,
     "metadata": {},
     "output_type": "execute_result"
    }
   ],
   "source": [
    "test_data_s3_path = \"s3://{}/{}/data/test.json\".format(bucket, prefix)\n",
    "transform_job_name = 'DEMO-GluonTS-{}-BT-'.format(model) + strftime(\"%Y-%m-%d-%H-%M-%S\", gmtime())\n",
    "\n",
    "transform_input = {\n",
    "        'DataSource': {\n",
    "            'S3DataSource': {\n",
    "                'S3DataType': 'S3Prefix',\n",
    "                'S3Uri': test_data_s3_path\n",
    "            }\n",
    "        },\n",
    "        'ContentType': 'application/json',\n",
    "        'CompressionType': 'None',\n",
    "        'SplitType': 'Line'\n",
    "    }\n",
    "\n",
    "transform_output = {\n",
    "        'S3OutputPath': 's3://{}/{}/inference-results/{}'.format(bucket,prefix, model),\n",
    "    }\n",
    "\n",
    "transform_resources = {\n",
    "        'InstanceType': 'ml.m5.xlarge',\n",
    "        'InstanceCount': 1\n",
    "    }\n",
    "\n",
    "sm_client.create_transform_job(TransformJobName = transform_job_name,\n",
    "                        ModelName = model_name_bt,\n",
    "                        BatchStrategy='SingleRecord',\n",
    "                        TransformInput = transform_input,\n",
    "                        TransformOutput = transform_output,\n",
    "                        TransformResources = transform_resources\n",
    ")"
   ]
  },
  {
   "cell_type": "markdown",
   "metadata": {},
   "source": [
    "## Step 3: Check the Batch Transform Job Status"
   ]
  },
  {
   "cell_type": "code",
   "execution_count": 20,
   "metadata": {},
   "outputs": [
    {
     "name": "stdout",
     "output_type": "stream",
     "text": [
      "JobStatus\n",
      "----------\n",
      "InProgress\n",
      "InProgress\n",
      "InProgress\n",
      "InProgress\n",
      "InProgress\n",
      "InProgress\n",
      "InProgress\n",
      "InProgress\n",
      "InProgress\n",
      "InProgress\n",
      "InProgress\n",
      "InProgress\n",
      "InProgress\n",
      "InProgress\n",
      "InProgress\n",
      "InProgress\n",
      "Completed\n"
     ]
    }
   ],
   "source": [
    "print ('JobStatus')\n",
    "print('----------')\n",
    "from time import sleep\n",
    "\n",
    "describe_response = sm_client.describe_transform_job(TransformJobName = transform_job_name)\n",
    "job_run_status = describe_response['TransformJobStatus']\n",
    "print (job_run_status)\n",
    "\n",
    "while job_run_status not in ('Failed', 'Completed', 'Stopped'):\n",
    "    describe_response = sm_client.describe_transform_job(TransformJobName = transform_job_name)\n",
    "    job_run_status = describe_response['TransformJobStatus']\n",
    "    print (job_run_status)\n",
    "    sleep(30)"
   ]
  },
  {
   "cell_type": "markdown",
   "metadata": {},
   "source": [
    "## Step 4: Inspect Batch Transform Results"
   ]
  },
  {
   "cell_type": "code",
   "execution_count": 21,
   "metadata": {},
   "outputs": [
    {
     "name": "stdout",
     "output_type": "stream",
     "text": [
      "[{'item_id': None, 'quantiles': {'0.1': [0.7315686527001264, 0.2856001165278528, 0.4323040259171994, 0.5833599570818291, -0.14797111589962553, 0.021587770106187287, -0.6077946952864486, -0.37748098928734525, -0.07952885636610768, -0.34318818769052273, -0.35792203168404557, -0.8223312373679962], '0.2': [1.4602484228793993, 1.073056784408827, 1.277245460243779, 1.0832357513623236, 0.3662195058442699, 0.7424413306138271, 0.4812303578001802, 0.5028512296478762, 1.0906918621359172, 0.5945405772812749, 0.5022932516142155, -0.013354661040992255], '0.3': [1.795786897086039, 1.465913012538786, 1.6618651577573946, 1.7628516387142779, 1.4342109215517789, 1.6406403571578272, 1.239871620102564, 1.029297049008235, 1.773293261366086, 1.3789020161223795, 1.4274630019458348, 0.7861460896701702], '0.4': [2.193155776216826, 1.8968683076991943, 2.0824539126703323, 2.106138158544148, 2.041541277690376, 2.0448217534102824, 1.8788850607500716, 1.4543228960864762, 2.2623898337815005, 1.8990658798677011, 2.071249786038598, 1.4742491356940906], '0.5': [2.4326776972565924, 2.470823145951786, 2.570520115889943, 2.26379722286904, 2.391725211445492, 2.3935566291244137, 2.4471035905826146, 2.08867728519409, 2.5949628673210277, 2.429220477904469, 2.60350916858716, 2.394548016232216], '0.6': [2.681178815138178, 2.980557821272375, 2.7940901447244304, 2.556689581566337, 2.6791787131532194, 2.8501490008652537, 2.8768379438711014, 2.4914353923370687, 2.844725919796743, 2.858295976929228, 2.9446129597555206, 2.9333975732948936], '0.7': [2.952740011098367, 3.258667134738081, 3.180634127219412, 3.028378805702997, 3.144188925651261, 3.246346901552453, 3.285065008364609, 3.19497499842563, 3.214927485016925, 3.489624036980268, 3.527399440290743, 3.4878082628306437], '0.8': [3.3920029566114036, 3.662758666349988, 3.5513152572556583, 3.52075765604049, 3.5092498362399813, 3.666083570856335, 3.6492906941082652, 3.7615726618781826, 3.8131951717004586, 4.216609688758947, 4.211108017246044, 4.026304075912234], '0.9': [3.97261089513938, 3.9160158826780664, 3.925599004816754, 4.352828969976641, 4.3333078785716355, 4.405324149003528, 4.041004988070675, 4.735702742852139, 4.631328416988731, 4.765991292630629, 4.822849230019469, 4.809878764032263]}, 'mean': [2.4587262617060164, 2.3266127558906082, 2.3815883268510056, 2.281872841819433, 2.152442687664396, 2.278820616187842, 2.1586465965908914, 2.1208474673469304, 2.378134899610949, 2.343198011849266, 2.3417381754605735, 2.1418510246014093]}, {'item_id': None, 'quantiles': {'0.1': [20.878260221319856, 21.53385633310135, 26.30411218858502, 29.45683568647805, 29.696036049379725, 30.3681181392048, 28.650277444664887, 27.088965658593892, 29.282801121030403, 30.630794304860952, 25.78472530806879, 22.595336804542114], '0.2': [21.837515534089203, 22.184078266865825, 26.990964618102865, 30.11976804831713, 30.461408645416665, 30.992201382618667, 29.221903606709862, 27.886919902059635, 30.09337029499065, 31.11729580695157, 26.649076123359283, 23.083608823135474], '0.3': [22.537898112088442, 22.575982795418476, 27.353979520464097, 30.73049929872139, 30.865327481354843, 31.512506753188063, 29.544226116984962, 28.25824212766268, 30.57323698721834, 31.733411584677455, 27.11922765011944, 23.588848143152976], '0.4': [22.87951621029116, 22.927919815369712, 27.631175521543305, 31.127839669275048, 31.351897649155244, 31.914760958403512, 30.05736383184102, 28.870593434057444, 31.017535123971303, 32.09199655068799, 27.4589616332569, 24.03044064983851], '0.5': [23.297165800761327, 23.492670015210606, 27.879667908065468, 31.616741551258745, 31.822818342716772, 32.4027642639482, 30.753313527580122, 29.165465833217336, 31.634088039038122, 32.31108589771397, 27.938930775917594, 24.463007125120125], '0.6': [23.467931782930414, 23.66652043715624, 28.2686336972439, 32.01693782875018, 32.02834179832391, 32.70107939422455, 31.03079053319642, 29.67438001964192, 31.999285807831154, 32.84103620137768, 28.35676443986163, 25.043570114600033], '0.7': [23.840458720321276, 24.184868634340773, 28.622158605062403, 32.414581340968624, 32.51405139315241, 33.216098968283326, 31.60746999918243, 30.137589580971902, 32.809315388576586, 33.21408808600146, 28.67707595722342, 25.405153449213966], '0.8': [24.66559262267526, 24.78371109284813, 29.353300506764636, 32.73019438244196, 33.12994496823816, 33.654526183044055, 32.211324322091855, 30.488494089277573, 33.22778548937217, 33.81710812551857, 29.262875818824334, 25.99690685775703], '0.9': [25.399831994665263, 25.403289197813166, 29.87099387644783, 33.21343547156888, 33.77384229319034, 34.214861884733075, 32.93524602276014, 31.01890402138018, 33.851376090749355, 34.53140955856846, 30.19945481173008, 26.750489482276098]}, 'mean': [23.2061744065269, 23.399117387767536, 28.02253279715805, 31.401095130445864, 31.68343093037569, 32.304899703230085, 30.70265653310795, 29.143925128275292, 31.583011165630232, 32.46386125513656, 27.916536225733108, 24.538291017972185]}]\n"
     ]
    }
   ],
   "source": [
    "s3_client = boto3.client('s3')\n",
    "s3_client.download_file(Filename='data/test.json.out',\n",
    "                        Bucket=bucket,\n",
    "                        Key='{}/inference-results/{}/test.json.out'.format(prefix, model))\n",
    "test_out_jsonline = read_data('data/test.json.out')\n",
    "print(test_out_jsonline[:2])"
   ]
  },
  {
   "cell_type": "markdown",
   "metadata": {},
   "source": [
    "# 10. Clean up the resources"
   ]
  },
  {
   "cell_type": "markdown",
   "metadata": {},
   "source": [
    "## (Optional) Delete the hosting resources"
   ]
  },
  {
   "cell_type": "code",
   "execution_count": 22,
   "metadata": {},
   "outputs": [
    {
     "data": {
      "text/plain": [
       "{'ResponseMetadata': {'RequestId': 'd1435880-de88-4807-bccf-62d6b26f6d7c',\n",
       "  'HTTPStatusCode': 200,\n",
       "  'HTTPHeaders': {'x-amzn-requestid': 'd1435880-de88-4807-bccf-62d6b26f6d7c',\n",
       "   'content-type': 'application/x-amz-json-1.1',\n",
       "   'content-length': '0',\n",
       "   'date': 'Thu, 10 Sep 2020 01:35:52 GMT'},\n",
       "  'RetryAttempts': 1}}"
      ]
     },
     "execution_count": 22,
     "metadata": {},
     "output_type": "execute_result"
    }
   ],
   "source": [
    "sm_client.delete_endpoint(EndpointName=endpoint_name)\n",
    "sm_client.delete_endpoint_config(EndpointConfigName=endpoint_config_name)\n",
    "sm_client.delete_model(ModelName=model_name)\n",
    "sm_client.delete_model(ModelName=model_name_bt)"
   ]
  },
  {
   "cell_type": "markdown",
   "metadata": {},
   "source": [
    "# 11. Conclusion"
   ]
  },
  {
   "cell_type": "markdown",
   "metadata": {},
   "source": [
    "Time series data is a highly valuable data source to various businesses, and the ability to forecast such data is critial to making optimal and accurate business decisions. In stead of using AWS build-in services or algorithms, this tutorial has demonstated how to use AWS Sagemaker to build your own custom algorithm to do forecast, and deploy multiple forecast models into one Sagemaker endpoint. This will facilitate businesses to compare state-of-the-art algorithms more efficientily and effectively, and enable the possiblilities to do smarter decisions based on the forecast.\n",
    "\n",
    "We have covered other use cases related to time series data as well, you can find other topics below:\n",
    "\n",
    "- Forecast air pollution with SageMaker processing and the AWS Open Data Registry by Eric Greene\n",
    "- Automate sales projections with Amazon Forecast, QuickSight and AWS Lambda by Yoshiyuki Ito\n",
    "- Detect DDoS Attacks with Kineses Data Streams and SageMaker Isolation Forest by Seongmoon Kang"
   ]
  }
 ],
 "metadata": {
  "kernelspec": {
   "display_name": "conda_gluonts-multimodel",
   "language": "python",
   "name": "conda_gluonts-multimodel"
  },
  "language_info": {
   "codemirror_mode": {
    "name": "ipython",
    "version": 3
   },
   "file_extension": ".py",
   "mimetype": "text/x-python",
   "name": "python",
   "nbconvert_exporter": "python",
   "pygments_lexer": "ipython3",
   "version": "3.6.10"
  }
 },
 "nbformat": 4,
 "nbformat_minor": 4
}
